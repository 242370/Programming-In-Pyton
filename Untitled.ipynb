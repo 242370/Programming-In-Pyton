{
 "cells": [
  {
   "cell_type": "code",
   "execution_count": 4,
   "id": "ef2853eb",
   "metadata": {},
   "outputs": [],
   "source": [
    "import pandas\n",
    "import numpy as np\n",
    "\n",
    "\n",
    "class Zad1:\n",
    "    def __init__(self):\n",
    "        self.data = pandas.read_csv(\"data.csv\")\n",
    "        self.qualitativeData = self.data[self.data.columns[0]]\n",
    "\n",
    "    def genderof(self, index):\n",
    "        return self.qualitativeData[index]\n",
    "\n",
    "    def count_genders(self, gender):\n",
    "        counter = 0\n",
    "        for i in range(len(self.qualitativeData)):\n",
    "            if self.genderof(i) == gender:\n",
    "                counter += 1\n",
    "        return counter\n",
    "\n",
    "    def gender_percentage(self, gender):\n",
    "        return round(self.count_genders(gender) / len(self.qualitativeData) * 100, 2)\n",
    "    \n",
    "    def generate_dataframe(self):\n",
    "        final_data = [[self.count_genders('M'), self.gender_percentage('M')], [self.count_genders('I'), self.gender_percentage('I')],\n",
    "                [self.count_genders('I'), self.gender_percentage('I')]]\n",
    "        return pandas.DataFrame(final_data, index=['Male', 'Infant', 'Female'], columns=['count', '%'])"
   ]
  },
  {
   "cell_type": "code",
   "execution_count": 7,
   "id": "ccd9e0d8",
   "metadata": {},
   "outputs": [
    {
     "data": {
      "text/html": [
       "<div>\n",
       "<style scoped>\n",
       "    .dataframe tbody tr th:only-of-type {\n",
       "        vertical-align: middle;\n",
       "    }\n",
       "\n",
       "    .dataframe tbody tr th {\n",
       "        vertical-align: top;\n",
       "    }\n",
       "\n",
       "    .dataframe thead th {\n",
       "        text-align: right;\n",
       "    }\n",
       "</style>\n",
       "<table border=\"1\" class=\"dataframe\">\n",
       "  <thead>\n",
       "    <tr style=\"text-align: right;\">\n",
       "      <th></th>\n",
       "      <th>count</th>\n",
       "      <th>%</th>\n",
       "    </tr>\n",
       "  </thead>\n",
       "  <tbody>\n",
       "    <tr>\n",
       "      <th>Male</th>\n",
       "      <td>1527</td>\n",
       "      <td>36.57</td>\n",
       "    </tr>\n",
       "    <tr>\n",
       "      <th>Infant</th>\n",
       "      <td>1342</td>\n",
       "      <td>32.14</td>\n",
       "    </tr>\n",
       "    <tr>\n",
       "      <th>Female</th>\n",
       "      <td>1342</td>\n",
       "      <td>32.14</td>\n",
       "    </tr>\n",
       "  </tbody>\n",
       "</table>\n",
       "</div>"
      ],
      "text/plain": [
       "        count      %\n",
       "Male     1527  36.57\n",
       "Infant   1342  32.14\n",
       "Female   1342  32.14"
      ]
     },
     "execution_count": 7,
     "metadata": {},
     "output_type": "execute_result"
    }
   ],
   "source": [
    "snails = Zad1()\n",
    "counter = snails.generate_dataframe()\n",
    "counter"
   ]
  },
  {
   "cell_type": "code",
   "execution_count": null,
   "id": "44bae1c8",
   "metadata": {},
   "outputs": [],
   "source": []
  }
 ],
 "metadata": {
  "kernelspec": {
   "display_name": "Python 3 (ipykernel)",
   "language": "python",
   "name": "python3"
  },
  "language_info": {
   "codemirror_mode": {
    "name": "ipython",
    "version": 3
   },
   "file_extension": ".py",
   "mimetype": "text/x-python",
   "name": "python",
   "nbconvert_exporter": "python",
   "pygments_lexer": "ipython3",
   "version": "3.9.12"
  }
 },
 "nbformat": 4,
 "nbformat_minor": 5
}
