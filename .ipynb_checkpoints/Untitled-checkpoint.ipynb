{
 "cells": [
  {
   "cell_type": "code",
   "execution_count": 1,
   "id": "88aa10a0",
   "metadata": {},
   "outputs": [],
   "source": [
    "import pandas\n",
    "import numpy as np\n",
    "\n",
    "\n",
    "class Zad1:\n",
    "    def __init__(self):\n",
    "        self.data = pandas.read_csv(\"data.csv\")\n",
    "        self.qualitativeData = self.data[self.data.columns[0]]\n",
    "\n",
    "    def genderof(self, index):\n",
    "        return self.qualitativeData[index]\n",
    "\n",
    "    def count_genders(self, gender):\n",
    "        counter = 0\n",
    "        for i in range(len(self.qualitativeData)):\n",
    "            if self.genderof(i) == gender:\n",
    "                counter += 1\n",
    "        return counter\n",
    "\n",
    "    def gender_percentage(self, gender):\n",
    "        return round(self.count_genders(gender) / len(self.qualitativeData) * 100, 2)\n",
    "    \n",
    "    def generate_dataframe(self):\n",
    "        final_data = [[self.count_genders('M'), self.gender_percentage('M')], [self.count_genders('I'), self.gender_percentage('I')],\n",
    "                [self.count_genders('I'), self.gender_percentage('I')]]\n",
    "        return pandas.DataFrame(final_data, index=['Male', 'Infant', 'Female'], columns=['count', '%'])"
   ]
  },
  {
   "cell_type": "code",
   "execution_count": null,
   "id": "75bfec35",
   "metadata": {},
   "outputs": [],
   "source": []
  }
 ],
 "metadata": {
  "kernelspec": {
   "display_name": "Python 3 (ipykernel)",
   "language": "python",
   "name": "python3"
  },
  "language_info": {
   "codemirror_mode": {
    "name": "ipython",
    "version": 3
   },
   "file_extension": ".py",
   "mimetype": "text/x-python",
   "name": "python",
   "nbconvert_exporter": "python",
   "pygments_lexer": "ipython3",
   "version": "3.9.12"
  }
 },
 "nbformat": 4,
 "nbformat_minor": 5
}
